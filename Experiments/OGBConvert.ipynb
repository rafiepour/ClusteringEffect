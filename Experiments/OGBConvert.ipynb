{
 "cells": [
  {
   "cell_type": "markdown",
   "source": [
    "## Converts OGBL npy objects to CSV edge list for link prediction"
   ],
   "metadata": {
    "collapsed": false
   },
   "id": "51e7b9931db62ee0"
  },
  {
   "cell_type": "markdown",
   "source": [],
   "metadata": {
    "collapsed": false
   },
   "id": "b04b618e5a5ba802"
  },
  {
   "cell_type": "code",
   "execution_count": 6,
   "outputs": [
    {
     "name": "stdout",
     "output_type": "stream",
     "text": [
      "(0, 278560)\n"
     ]
    }
   ],
   "source": [
    "import numpy as np\n",
    "import csv\n",
    "# Assuming you have an edge index array in numpy format\n",
    "edge_index = np.load('./dataset/ogbl_vessel/raw/data/edge_index.npy')\n",
    "\n",
    "# Convert edge index to an edge list (as a list of tuples)\n",
    "edge_list = [(edge_index[0, i].item(), edge_index[1, i].item()) for i in range(edge_index.shape[1])]\n",
    "edge_list.insert(0,('from','to'))\n",
    "print(edge_list[1])\n",
    "with open('vessel.csv', 'w', newline='') as csvfile:\n",
    "    writer = csv.writer(csvfile)\n",
    "    writer.writerows(edge_list)"
   ],
   "metadata": {
    "collapsed": false,
    "ExecuteTime": {
     "end_time": "2024-12-30T22:19:04.453173670Z",
     "start_time": "2024-12-30T22:18:54.348257835Z"
    }
   },
   "id": "f38705250497ed4a"
  },
  {
   "cell_type": "code",
   "execution_count": null,
   "outputs": [],
   "source": [
    "from ogb.linkproppred import LinkPropPredDataset\n",
    "\n",
    "dataset = LinkPropPredDataset(name = \"ogbl-biokg\")\n",
    "\n",
    "split_edge = dataset.get_edge_split()\n",
    "train_edge, valid_edge, test_edge = split_edge[\"train\"], split_edge[\"valid\"], split_edge[\"test\"]\n",
    "graph = dataset[0] # graph: library-agnostic graph object"
   ],
   "metadata": {
    "collapsed": false
   },
   "id": "c8ac7d4ebd874115"
  },
  {
   "cell_type": "code",
   "execution_count": null,
   "outputs": [],
   "source": [],
   "metadata": {
    "collapsed": false
   },
   "id": "6e8fd7ac44ca45b6"
  }
 ],
 "metadata": {
  "kernelspec": {
   "display_name": "Python 3",
   "language": "python",
   "name": "python3"
  },
  "language_info": {
   "codemirror_mode": {
    "name": "ipython",
    "version": 2
   },
   "file_extension": ".py",
   "mimetype": "text/x-python",
   "name": "python",
   "nbconvert_exporter": "python",
   "pygments_lexer": "ipython2",
   "version": "2.7.6"
  }
 },
 "nbformat": 4,
 "nbformat_minor": 5
}
