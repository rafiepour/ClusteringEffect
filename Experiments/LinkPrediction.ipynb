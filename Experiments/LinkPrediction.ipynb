{
 "cells": [
  {
   "cell_type": "markdown",
   "source": [
    "### This File calculates the average clustering coefficient and the AUC for a given graph using Heterogeneity Index, Homogeneity Index and the Jaccard Index"
   ],
   "metadata": {
    "collapsed": false
   }
  },
  {
   "cell_type": "code",
   "execution_count": 1,
   "metadata": {
    "ExecuteTime": {
     "end_time": "2024-12-30T22:20:04.131618289Z",
     "start_time": "2024-12-30T22:20:03.576044520Z"
    }
   },
   "outputs": [],
   "source": [
    "import networkx as nx\n",
    "import pandas as pd\n",
    "import numpy as np\n",
    "from sklearn.metrics import roc_auc_score\n",
    "import random\n",
    "import import_ipynb\n",
    "import lp_accu as acu"
   ]
  },
  {
   "cell_type": "code",
   "execution_count": 2,
   "metadata": {
    "ExecuteTime": {
     "end_time": "2024-12-30T22:20:06.778557015Z",
     "start_time": "2024-12-30T22:20:06.775061571Z"
    }
   },
   "outputs": [],
   "source": [
    "from networkx.utils import not_implemented_for\n",
    "def _apply_prediction(G, func, ebunch=None):\n",
    "    if ebunch is None:\n",
    "        ebunch = nx.non_edges(G)\n",
    "    return ((u, v, func(u, v)) for u, v in ebunch)\n",
    "@not_implemented_for('directed')\n",
    "@not_implemented_for('multigraph')\n",
    "def heterogeneity_index(G, ebunch=None,alpha=0.5):\n",
    "    def predict(u, v):\n",
    "        return abs(G.degree(u) - G.degree(v))**alpha\n",
    "    return _apply_prediction(G, predict, ebunch)\n",
    "def homogeneity_index(G, ebunch=None,alpha=0.5):\n",
    "    def predict(u, v):\n",
    "        try:\n",
    "            score = 1 / abs(G.degree(u) - G.degree(v))**alpha\n",
    "        except:\n",
    "            score = 1\n",
    "        return score\n",
    "    return _apply_prediction(G, predict, ebunch)"
   ]
  },
  {
   "cell_type": "code",
   "execution_count": 3,
   "metadata": {
    "ExecuteTime": {
     "end_time": "2024-12-30T22:20:19.850637678Z",
     "start_time": "2024-12-30T22:20:07.646341954Z"
    }
   },
   "outputs": [],
   "source": [
    "#df = pd.read_csv('d:\\\\twitch\\\\107.edges')\n",
    "#df = pd.read_csv('D:\\\\higgs-twitter\\\\higgs-twitter_retweet.txt', sep = ' ')\n",
    "#df = pd.read_csv('D:\\\\git_web_ml\\\\musae_git_edges.csv', sep = ',')\n",
    "#df = pd.read_csv('D:\\\\datasets\\\\facebook_combined.txt', sep = ' ')\n",
    "#df = pd.read_csv('D:\\\\datasets\\\\amazon0601_adj.tsv', sep = ',')\n",
    "#df = pd.read_csv('D:\\\\datasets\\\\roadNet-CA_adj.tsv', sep = ',')\n",
    "#df = pd.read_csv('D:\\\\datasets\\\\roadNet-TX_adj.tsv', sep = '\t')\n",
    "#df = pd.read_csv('D:\\\\datasets\\\\soc-Epinions1_adj.tsv', sep = '\t')\n",
    "#df = pd.read_csv('D:\\\\datasets\\\\roadNet-PA_adj.tsv', sep = '\t')\n",
    "#df = pd.read_csv('D:\\\\datasets\\\\soc-Slashdot0902_adj.tsv', sep = '\t')\n",
    "#df = pd.read_csv('./dataset/p2p-Gnutella31_adj.tsv', sep = '\t')\n",
    "#df = pd.read_csv('./dataset/ppa.csv', sep = ',')\n",
    "#df = pd.read_csv('./dataset/collab.csv', sep = ',')\n",
    "#df = pd.read_csv('./dataset/ddi.csv', sep = ',')\n",
    "#df = pd.read_csv('./dataset/obgnproteins.csv', sep = ',')\n",
    "df = pd.read_csv('./dataset/vessel.csv', sep = ',')\n",
    "\n",
    "default_graph=nx.Graph()\n",
    "G = nx.from_pandas_edgelist(df,source=\"from\",target=\"to\", create_using=default_graph)"
   ]
  },
  {
   "cell_type": "code",
   "execution_count": 4,
   "metadata": {
    "ExecuteTime": {
     "end_time": "2024-12-30T22:30:51.181651586Z",
     "start_time": "2024-12-30T22:20:19.856705294Z"
    }
   },
   "outputs": [
    {
     "name": "stdout",
     "output_type": "stream",
     "text": [
      "-----------------\n",
      "Nodes:\n",
      "3463841\n",
      "Edges:\n",
      "4276719\n",
      "jaccard:\n",
      "0.51579\n",
      "hetero:\n",
      "0.466053578\n",
      "homo:\n",
      "0.5212899658\n",
      "average_clustering:\n",
      "0.015147787108647275\n"
     ]
    }
   ],
   "source": [
    "print(\"-----------------\")\n",
    "print(\"Nodes:\")\n",
    "print(nx.number_of_nodes(G))\n",
    "print(\"Edges:\")\n",
    "print(nx.number_of_edges(G))\n",
    "print(\"jaccard:\")\n",
    "print(acu.pred_jac(G))\n",
    "print(\"hetero:\")\n",
    "print (acu.pred_hetero(G))\n",
    "print(\"homo:\")\n",
    "print (acu.pred_homo(G))\n",
    "print (\"average_clustering:\")\n",
    "print(nx.average_clustering(G))"
   ]
  },
  {
   "cell_type": "code",
   "execution_count": 4,
   "metadata": {
    "ExecuteTime": {
     "end_time": "2024-12-27T23:37:17.538722054Z",
     "start_time": "2024-12-27T23:37:17.536617149Z"
    }
   },
   "outputs": [],
   "source": []
  }
 ],
 "metadata": {
  "kernelspec": {
   "display_name": "Python 3",
   "language": "python",
   "name": "python3"
  },
  "language_info": {
   "codemirror_mode": {
    "name": "ipython",
    "version": 3
   },
   "file_extension": ".py",
   "mimetype": "text/x-python",
   "name": "python",
   "nbconvert_exporter": "python",
   "pygments_lexer": "ipython3",
   "version": "3.7.4"
  }
 },
 "nbformat": 4,
 "nbformat_minor": 2
}
