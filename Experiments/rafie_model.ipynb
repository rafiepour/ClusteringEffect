{
 "cells": [
  {
   "cell_type": "code",
   "execution_count": 1,
   "id": "initial_id",
   "metadata": {
    "collapsed": true,
    "ExecuteTime": {
     "end_time": "2024-12-28T22:43:44.802600960Z",
     "start_time": "2024-12-28T22:43:44.775632399Z"
    }
   },
   "outputs": [],
   "source": [
    "import networkx as nx\n",
    "from random import choices,random\n"
   ]
  },
  {
   "cell_type": "code",
   "execution_count": 2,
   "outputs": [],
   "source": [
    "eps=0.00001\n",
    "def rafie_graph(g:nx.Graph,d:float):\n",
    "    new_g=g.copy()\n",
    "    for i in g.nodes:\n",
    "        for z in g.neighbors(i):\n",
    "            SumDifferences=0\n",
    "            Probability=list()\n",
    "            for j in g.neighbors(z):\n",
    "                SumDifferences+=abs(eps+g.degree[i]-g.degree[j])\n",
    "            #if SumDifferences == 0: continue\n",
    "            for j in g.neighbors(z):\n",
    "                Probability.append(abs(eps+g.degree[i]-g.degree[j])/(SumDifferences))\n",
    "            choicelist=choices(list(g.neighbors(z)),Probability,k=1)\n",
    "            if len(choicelist)>=1:\n",
    "                if random() <= d:\n",
    "                    new_g.add_edge(i,choicelist[0])\n",
    "    return new_g\n",
    "             "
   ],
   "metadata": {
    "collapsed": false,
    "ExecuteTime": {
     "end_time": "2024-12-28T22:43:44.807352752Z",
     "start_time": "2024-12-28T22:43:44.802762114Z"
    }
   },
   "id": "93564c144727827e"
  }
 ],
 "metadata": {
  "kernelspec": {
   "display_name": "Python 3",
   "language": "python",
   "name": "python3"
  },
  "language_info": {
   "codemirror_mode": {
    "name": "ipython",
    "version": 2
   },
   "file_extension": ".py",
   "mimetype": "text/x-python",
   "name": "python",
   "nbconvert_exporter": "python",
   "pygments_lexer": "ipython2",
   "version": "2.7.6"
  }
 },
 "nbformat": 4,
 "nbformat_minor": 5
}
